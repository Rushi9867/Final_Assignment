{
  "nbformat": 4,
  "nbformat_minor": 0,
  "metadata": {
    "colab": {
      "provenance": [],
      "gpuType": "T4"
    },
    "kernelspec": {
      "name": "python3",
      "display_name": "Python 3"
    },
    "language_info": {
      "name": "python"
    },
    "accelerator": "GPU"
  },
  "cells": [
    {
      "cell_type": "markdown",
      "source": [
        "### Question 2 - Implement 5 different CNN architectures with a comparison table for CIFAR 10 dataset using the PyTorch library\n",
        "**Note -**\n",
        "1. The model parameters for each architecture should not be more than 10000 parameters\n",
        "2. Code comments should be given for proper code understanding\n"
      ],
      "metadata": {
        "id": "TR7VfmhJY0Wx"
      }
    },
    {
      "cell_type": "code",
      "execution_count": 1,
      "metadata": {
        "id": "3uW4vz25SvYa"
      },
      "outputs": [],
      "source": [
        "import torch\n",
        "import torch.nn as nn\n",
        "import torch.optim as optim\n",
        "import torchvision\n",
        "import torchvision.transforms as transforms"
      ]
    },
    {
      "cell_type": "code",
      "source": [
        "# Device configuration\n",
        "device = torch.device('cuda' if torch.cuda.is_available() else 'cpu')"
      ],
      "metadata": {
        "id": "yVZPBIxfS_ZZ"
      },
      "execution_count": 2,
      "outputs": []
    },
    {
      "cell_type": "code",
      "source": [
        "# Hyperparameters\n",
        "num_epochs = 10\n",
        "batch_size = 100\n",
        "learning_rate = 0.001"
      ],
      "metadata": {
        "id": "R8FOFtiATDgL"
      },
      "execution_count": 3,
      "outputs": []
    },
    {
      "cell_type": "code",
      "source": [
        "# CIFAR-10 dataset\n",
        "transform = transforms.Compose(\n",
        "    [transforms.ToTensor(),\n",
        "     transforms.Normalize((0.5, 0.5, 0.5), (0.5, 0.5, 0.5))])"
      ],
      "metadata": {
        "id": "0kJfrLMPTERS"
      },
      "execution_count": 4,
      "outputs": []
    },
    {
      "cell_type": "code",
      "source": [
        "train_dataset = torchvision.datasets.CIFAR10(root='./data', train=True,\n",
        "                                             download=True, transform=transform)\n",
        "test_dataset = torchvision.datasets.CIFAR10(root='./data', train=False,\n",
        "                                            download=True, transform=transform)"
      ],
      "metadata": {
        "colab": {
          "base_uri": "https://localhost:8080/"
        },
        "id": "yls6tngFTHyo",
        "outputId": "8488154c-464f-45c3-e1bf-b2038f3ff1dd"
      },
      "execution_count": 5,
      "outputs": [
        {
          "output_type": "stream",
          "name": "stdout",
          "text": [
            "Downloading https://www.cs.toronto.edu/~kriz/cifar-10-python.tar.gz to ./data/cifar-10-python.tar.gz\n"
          ]
        },
        {
          "output_type": "stream",
          "name": "stderr",
          "text": [
            "100%|██████████| 170498071/170498071 [00:01<00:00, 106171681.53it/s]\n"
          ]
        },
        {
          "output_type": "stream",
          "name": "stdout",
          "text": [
            "Extracting ./data/cifar-10-python.tar.gz to ./data\n",
            "Files already downloaded and verified\n"
          ]
        }
      ]
    },
    {
      "cell_type": "code",
      "source": [
        "train_loader = torch.utils.data.DataLoader(train_dataset, batch_size=batch_size,\n",
        "                                           shuffle=True)\n",
        "test_loader = torch.utils.data.DataLoader(test_dataset, batch_size=batch_size,\n",
        "                                          shuffle=False)"
      ],
      "metadata": {
        "id": "q6sZA71rTLCl"
      },
      "execution_count": 6,
      "outputs": []
    },
    {
      "cell_type": "code",
      "source": [
        "# Function to count the number of parameters in a model\n",
        "def count_parameters(model):\n",
        "    return sum(p.numel() for p in model.parameters() if p.requires_grad)"
      ],
      "metadata": {
        "id": "xCji44ZFTOvT"
      },
      "execution_count": 7,
      "outputs": []
    },
    {
      "cell_type": "code",
      "source": [
        "# Define a CNN architecture\n",
        "class Net(nn.Module):\n",
        "    def __init__(self):\n",
        "        super(Net, self).__init__()\n",
        "        self.conv1 = nn.Conv2d(3, 4, kernel_size=3, stride=1, padding=1)\n",
        "        self.relu = nn.ReLU()\n",
        "        self.maxpool = nn.MaxPool2d(kernel_size=2, stride=2)\n",
        "        self.conv2 = nn.Conv2d(4, 8, kernel_size=3, stride=1, padding=1)\n",
        "        self.fc = nn.Linear(8 * 8 * 8, 10)\n",
        "\n",
        "    def forward(self, x):\n",
        "        out = self.conv1(x)\n",
        "        out = self.relu(out)\n",
        "        out = self.maxpool(out)\n",
        "        out = self.conv2(out)\n",
        "        out = self.relu(out)\n",
        "        out = self.maxpool(out)\n",
        "        out = out.view(out.size(0), -1)\n",
        "        out = self.fc(out)\n",
        "        return out"
      ],
      "metadata": {
        "id": "4sncZxbiTSJW"
      },
      "execution_count": 8,
      "outputs": []
    },
    {
      "cell_type": "code",
      "source": [
        "# Define a CNN architecture\n",
        "class Net(nn.Module):\n",
        "    def __init__(self):\n",
        "        super(Net, self).__init__()\n",
        "        self.conv1 = nn.Conv2d(3, 4, kernel_size=3, stride=1, padding=1)\n",
        "        self.relu = nn.ReLU()\n",
        "        self.maxpool = nn.MaxPool2d(kernel_size=2, stride=2)\n",
        "        self.conv2 = nn.Conv2d(4, 8, kernel_size=3, stride=1, padding=1)\n",
        "        self.fc = nn.Linear(8 * 8 * 8, 10)\n",
        "\n",
        "    def forward(self, x):\n",
        "        out = self.conv1(x)\n",
        "        out = self.relu(out)\n",
        "        out = self.maxpool(out)\n",
        "        out = self.conv2(out)\n",
        "        out = self.relu(out)\n",
        "        out = self.maxpool(out)\n",
        "        out = out.view(out.size(0), -1)\n",
        "        out = self.fc(out)\n",
        "        return out\n",
        "\n",
        "# Define the model architectures\n",
        "architectures = [\n",
        "    ('Architecture 1', Net()),\n",
        "    ('Architecture 2', nn.Sequential(\n",
        "        nn.Conv2d(3, 2, kernel_size=3, stride=1, padding=1),\n",
        "        nn.ReLU(),\n",
        "        nn.MaxPool2d(kernel_size=2, stride=2),\n",
        "        nn.Conv2d(2, 4, kernel_size=3, stride=1, padding=1),\n",
        "        nn.ReLU(),\n",
        "        nn.MaxPool2d(kernel_size=2, stride=2),\n",
        "        nn.Flatten(),\n",
        "        nn.Linear(4 * 8 * 8, 10)\n",
        "    )),\n",
        "    ('Architecture 3', nn.Sequential(\n",
        "        nn.Conv2d(3, 4, kernel_size=3, stride=1, padding=1),\n",
        "        nn.ReLU(),\n",
        "        nn.MaxPool2d(kernel_size=2, stride=2),\n",
        "        nn.Conv2d(4, 4, kernel_size=3, stride=1, padding=1),\n",
        "        nn.ReLU(),\n",
        "        nn.MaxPool2d(kernel_size=2, stride=2),\n",
        "        nn.Flatten(),\n",
        "        nn.Linear(4 * 8 * 8, 10)\n",
        "    )),\n",
        "    ('Architecture 4', nn.Sequential(\n",
        "        nn.Conv2d(3, 2, kernel_size=3, stride=1, padding=1),\n",
        "        nn.ReLU(),\n",
        "        nn.MaxPool2d(kernel_size=2, stride=2),\n",
        "        nn.Conv2d(2, 2, kernel_size=3, stride=1, padding=1),\n",
        "        nn.ReLU(),\n",
        "        nn.MaxPool2d(kernel_size=2, stride=2),\n",
        "        nn.Flatten(),\n",
        "        nn.Linear(2 * 8 * 8, 10)\n",
        "    )),\n",
        "    ('Architecture 5', nn.Sequential(\n",
        "        nn.Conv2d(3, 4, kernel_size=3, stride=1, padding=1),\n",
        "        nn.ReLU(),\n",
        "        nn.MaxPool2d(kernel_size=2, stride=2),\n",
        "        nn.Conv2d(4, 2, kernel_size=3, stride=1, padding=1),\n",
        "        nn.ReLU(),\n",
        "        nn.MaxPool2d(kernel_size=2, stride=2),\n",
        "        nn.Flatten(),\n",
        "        nn.Linear(2 * 8 * 8, 10)\n",
        "    ))\n",
        "]"
      ],
      "metadata": {
        "id": "kS_IOpyCTXjv"
      },
      "execution_count": 9,
      "outputs": []
    },
    {
      "cell_type": "code",
      "source": [
        "# Define the loss function and optimizer\n",
        "criterion = nn.CrossEntropyLoss()"
      ],
      "metadata": {
        "id": "yuzEYkADTjlD"
      },
      "execution_count": 10,
      "outputs": []
    },
    {
      "cell_type": "code",
      "source": [
        "# Compare architectures\n",
        "comparison_table = []\n",
        "for name, model in architectures:\n",
        "    model = model.to(device)\n",
        "    optimizer = optim.Adam(model.parameters(), lr=learning_rate)\n",
        "    total_params = count_parameters(model)\n",
        "\n",
        "    if total_params <= 10000:  # Check if total parameters are less than or equal to 10,000\n",
        "            # Training loop\n",
        "            for epoch in range(num_epochs):\n",
        "                total_loss = 0\n",
        "                correct = 0\n",
        "                total = 0\n",
        "                for images, labels in train_loader:\n",
        "                    images = images.to(device)\n",
        "                    labels = labels.to(device)\n",
        "\n",
        "                    # Forward pass\n",
        "                    outputs = model(images)\n",
        "                    loss = criterion(outputs, labels)\n",
        "\n",
        "                    # Backward and optimize\n",
        "                    optimizer.zero_grad()\n",
        "                    loss.backward()\n",
        "                    optimizer.step()\n",
        "\n",
        "                    total_loss += loss.item()\n",
        "                    _, predicted = torch.max(outputs.data, 1)\n",
        "                    total += labels.size(0)\n",
        "                    correct += (predicted == labels).sum().item()\n",
        "\n",
        "                    # Print epoch-wise accuracy and loss\n",
        "                print(f'Architecture: {name}, Epoch: {epoch+1}/{num_epochs}, Loss: {total_loss/len(train_loader):.4f}, Accuracy: {100*correct/total:.2f}%')\n",
        "\n",
        "                # Test the model\n",
        "            model.eval()\n",
        "            with torch.no_grad():\n",
        "                correct = 0\n",
        "                total = 0\n",
        "                for images, labels in test_loader:\n",
        "                    images = images.to(device)\n",
        "                    labels = labels.to(device)\n",
        "                    outputs = model(images)\n",
        "                    _, predicted = torch.max(outputs.data, 1)\n",
        "                    total += labels.size(0)\n",
        "                    correct += (predicted == labels).sum().item()\n",
        "\n",
        "            accuracy = 100 * correct / total\n",
        "            comparison_table.append((name, total_params, accuracy))"
      ],
      "metadata": {
        "colab": {
          "base_uri": "https://localhost:8080/"
        },
        "id": "uJ3PAdCVTon7",
        "outputId": "29f8fabb-a0f7-4818-91c9-3f1b7dfd4b73"
      },
      "execution_count": 17,
      "outputs": [
        {
          "output_type": "stream",
          "name": "stdout",
          "text": [
            "Architecture: Architecture 1, Epoch: 1/10, Loss: 1.7499, Accuracy: 38.23%\n",
            "Architecture: Architecture 1, Epoch: 2/10, Loss: 1.4807, Accuracy: 47.75%\n",
            "Architecture: Architecture 1, Epoch: 3/10, Loss: 1.3924, Accuracy: 51.01%\n",
            "Architecture: Architecture 1, Epoch: 4/10, Loss: 1.3404, Accuracy: 52.83%\n",
            "Architecture: Architecture 1, Epoch: 5/10, Loss: 1.3023, Accuracy: 54.14%\n",
            "Architecture: Architecture 1, Epoch: 6/10, Loss: 1.2750, Accuracy: 55.15%\n",
            "Architecture: Architecture 1, Epoch: 7/10, Loss: 1.2513, Accuracy: 56.10%\n",
            "Architecture: Architecture 1, Epoch: 8/10, Loss: 1.2332, Accuracy: 56.59%\n",
            "Architecture: Architecture 1, Epoch: 9/10, Loss: 1.2203, Accuracy: 57.14%\n",
            "Architecture: Architecture 1, Epoch: 10/10, Loss: 1.2078, Accuracy: 57.66%\n",
            "Architecture: Architecture 2, Epoch: 1/10, Loss: 1.9223, Accuracy: 30.76%\n",
            "Architecture: Architecture 2, Epoch: 2/10, Loss: 1.6634, Accuracy: 40.26%\n",
            "Architecture: Architecture 2, Epoch: 3/10, Loss: 1.6187, Accuracy: 41.54%\n",
            "Architecture: Architecture 2, Epoch: 4/10, Loss: 1.5956, Accuracy: 42.40%\n",
            "Architecture: Architecture 2, Epoch: 5/10, Loss: 1.5767, Accuracy: 43.11%\n",
            "Architecture: Architecture 2, Epoch: 6/10, Loss: 1.5545, Accuracy: 43.87%\n",
            "Architecture: Architecture 2, Epoch: 7/10, Loss: 1.5354, Accuracy: 44.87%\n",
            "Architecture: Architecture 2, Epoch: 8/10, Loss: 1.5176, Accuracy: 45.35%\n",
            "Architecture: Architecture 2, Epoch: 9/10, Loss: 1.5017, Accuracy: 46.06%\n",
            "Architecture: Architecture 2, Epoch: 10/10, Loss: 1.4883, Accuracy: 46.62%\n",
            "Architecture: Architecture 3, Epoch: 1/10, Loss: 1.8478, Accuracy: 34.39%\n",
            "Architecture: Architecture 3, Epoch: 2/10, Loss: 1.5664, Accuracy: 44.66%\n",
            "Architecture: Architecture 3, Epoch: 3/10, Loss: 1.4773, Accuracy: 47.70%\n",
            "Architecture: Architecture 3, Epoch: 4/10, Loss: 1.4317, Accuracy: 49.38%\n",
            "Architecture: Architecture 3, Epoch: 5/10, Loss: 1.3979, Accuracy: 50.62%\n",
            "Architecture: Architecture 3, Epoch: 6/10, Loss: 1.3758, Accuracy: 51.68%\n",
            "Architecture: Architecture 3, Epoch: 7/10, Loss: 1.3559, Accuracy: 52.58%\n",
            "Architecture: Architecture 3, Epoch: 8/10, Loss: 1.3429, Accuracy: 53.00%\n",
            "Architecture: Architecture 3, Epoch: 9/10, Loss: 1.3319, Accuracy: 53.32%\n",
            "Architecture: Architecture 3, Epoch: 10/10, Loss: 1.3238, Accuracy: 53.77%\n",
            "Architecture: Architecture 4, Epoch: 1/10, Loss: 2.0387, Accuracy: 27.10%\n",
            "Architecture: Architecture 4, Epoch: 2/10, Loss: 1.7707, Accuracy: 37.28%\n",
            "Architecture: Architecture 4, Epoch: 3/10, Loss: 1.6949, Accuracy: 39.65%\n",
            "Architecture: Architecture 4, Epoch: 4/10, Loss: 1.6593, Accuracy: 40.63%\n",
            "Architecture: Architecture 4, Epoch: 5/10, Loss: 1.6340, Accuracy: 41.83%\n",
            "Architecture: Architecture 4, Epoch: 6/10, Loss: 1.6142, Accuracy: 42.44%\n",
            "Architecture: Architecture 4, Epoch: 7/10, Loss: 1.5964, Accuracy: 42.88%\n",
            "Architecture: Architecture 4, Epoch: 8/10, Loss: 1.5850, Accuracy: 43.45%\n",
            "Architecture: Architecture 4, Epoch: 9/10, Loss: 1.5735, Accuracy: 43.88%\n",
            "Architecture: Architecture 4, Epoch: 10/10, Loss: 1.5650, Accuracy: 44.11%\n",
            "Architecture: Architecture 5, Epoch: 1/10, Loss: 1.4744, Accuracy: 47.93%\n",
            "Architecture: Architecture 5, Epoch: 2/10, Loss: 1.4716, Accuracy: 48.00%\n",
            "Architecture: Architecture 5, Epoch: 3/10, Loss: 1.4689, Accuracy: 48.30%\n",
            "Architecture: Architecture 5, Epoch: 4/10, Loss: 1.4675, Accuracy: 48.26%\n",
            "Architecture: Architecture 5, Epoch: 5/10, Loss: 1.4662, Accuracy: 48.17%\n",
            "Architecture: Architecture 5, Epoch: 6/10, Loss: 1.4640, Accuracy: 48.50%\n",
            "Architecture: Architecture 5, Epoch: 7/10, Loss: 1.4624, Accuracy: 48.40%\n",
            "Architecture: Architecture 5, Epoch: 8/10, Loss: 1.4597, Accuracy: 48.66%\n",
            "Architecture: Architecture 5, Epoch: 9/10, Loss: 1.4606, Accuracy: 48.58%\n",
            "Architecture: Architecture 5, Epoch: 10/10, Loss: 1.4567, Accuracy: 48.56%\n"
          ]
        }
      ]
    },
    {
      "cell_type": "code",
      "source": [
        "# Print the comparison table\n",
        "print(\"\\nComparison Table:\")\n",
        "print(\"-------------------------------------------------------------\")\n",
        "print(\"| Architecture    | Parameters    | Accuracy (%) |\")\n",
        "print(\"-------------------------------------------------------------\")\n",
        "for name, params, accuracy in comparison_table:\n",
        "    print(f\"| {name:<15} | {params:<13} | {accuracy:<12.2f} |\")\n",
        "print(\"-------------------------------------------------------------\")"
      ],
      "metadata": {
        "colab": {
          "base_uri": "https://localhost:8080/"
        },
        "id": "3STlo1ZFT6sC",
        "outputId": "66eb3f64-40b9-462d-be07-56ade07d0060"
      },
      "execution_count": 18,
      "outputs": [
        {
          "output_type": "stream",
          "name": "stdout",
          "text": [
            "\n",
            "Comparison Table:\n",
            "-------------------------------------------------------------\n",
            "| Architecture    | Parameters    | Accuracy (%) |\n",
            "-------------------------------------------------------------\n",
            "| Architecture 1  | 5538          | 56.79        |\n",
            "| Architecture 2  | 2702          | 46.84        |\n",
            "| Architecture 3  | 2830          | 53.47        |\n",
            "| Architecture 4  | 1384          | 44.45        |\n",
            "| Architecture 5  | 1476          | 47.12        |\n",
            "-------------------------------------------------------------\n"
          ]
        }
      ]
    },
    {
      "cell_type": "code",
      "source": [],
      "metadata": {
        "id": "kVUz_MlGU_ey"
      },
      "execution_count": null,
      "outputs": []
    }
  ]
}